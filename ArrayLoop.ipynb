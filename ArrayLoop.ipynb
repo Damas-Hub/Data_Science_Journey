{
 "cells": [
  {
   "cell_type": "code",
   "execution_count": 1,
   "id": "1550eb63-64d6-4266-9de8-6f309d03fbdc",
   "metadata": {},
   "outputs": [
    {
     "name": "stdout",
     "output_type": "stream",
     "text": [
      "[1 2 3]\n",
      "[4 5 6]\n"
     ]
    }
   ],
   "source": [
    "import numpy as np\n",
    "twoDarray = np.array([[1,2,3],[4,5,6]])\n",
    "for i in twoDarray:\n",
    "    print(i)\n"
   ]
  },
  {
   "cell_type": "code",
   "execution_count": 3,
   "id": "488447a3-aaf5-4690-af85-e7b9a68f93f5",
   "metadata": {},
   "outputs": [
    {
     "name": "stdout",
     "output_type": "stream",
     "text": [
      "1\n",
      "2\n",
      "3\n",
      "4\n",
      "5\n",
      "6\n"
     ]
    }
   ],
   "source": [
    "for i in twoDarray:\n",
    "    for j in i:\n",
    "        print(j)"
   ]
  },
  {
   "cell_type": "code",
   "execution_count": 6,
   "id": "4ff57f8f-f36b-4aca-9a1f-29e9b77c813e",
   "metadata": {},
   "outputs": [
    {
     "name": "stdout",
     "output_type": "stream",
     "text": [
      "[[ 1  2  3]\n",
      " [-4 -5  6]\n",
      " [ 7  8  9]\n",
      " [-7 -8 -9]]\n"
     ]
    }
   ],
   "source": [
    "threeDarray = np.array([[[1,2,3,],[-4,-5,6],[7,8,9],[-7,-8,-9]]])\n",
    "for i in threeDarray:\n",
    "    print(i)"
   ]
  },
  {
   "cell_type": "code",
   "execution_count": 8,
   "id": "000fa0fe-eb10-4a45-bb63-c39d02fed8f5",
   "metadata": {},
   "outputs": [
    {
     "name": "stdout",
     "output_type": "stream",
     "text": [
      "[1 2 3]\n",
      "[-4 -5  6]\n",
      "[7 8 9]\n",
      "[-7 -8 -9]\n"
     ]
    }
   ],
   "source": [
    "threeDarray = np.array([[[1,2,3,],[-4,-5,6],[7,8,9],[-7,-8,-9]]])\n",
    "for i in threeDarray:\n",
    "    for j in i:\n",
    "        print(j)\n",
    "    "
   ]
  },
  {
   "cell_type": "code",
   "execution_count": null,
   "id": "b06ab2f2-a17d-47e0-8f6e-f23582be6372",
   "metadata": {},
   "outputs": [],
   "source": [
    "threeDarray = np.array([[[1,2,3,],[-4,-5,6],[7,8,9],[-7,-8,-9]]])\n",
    "for i in threeDarray:\n",
    "    for j in i:\n",
    "        for j in k:\n",
    "            print(k)\n",
    "         "
   ]
  },
  {
   "cell_type": "code",
   "execution_count": null,
   "id": "e7254dfc-5b67-409a-a12b-05c170c1c6eb",
   "metadata": {},
   "outputs": [],
   "source": []
  }
 ],
 "metadata": {
  "kernelspec": {
   "display_name": "Python 3 (ipykernel)",
   "language": "python",
   "name": "python3"
  },
  "language_info": {
   "codemirror_mode": {
    "name": "ipython",
    "version": 3
   },
   "file_extension": ".py",
   "mimetype": "text/x-python",
   "name": "python",
   "nbconvert_exporter": "python",
   "pygments_lexer": "ipython3",
   "version": "3.12.1"
  }
 },
 "nbformat": 4,
 "nbformat_minor": 5
}
