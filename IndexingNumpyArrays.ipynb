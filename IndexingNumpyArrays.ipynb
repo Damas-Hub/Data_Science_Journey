{
 "cells": [
  {
   "cell_type": "code",
   "execution_count": 2,
   "id": "6fbb6ca8-1819-4435-bc67-736c5e074acc",
   "metadata": {},
   "outputs": [
    {
     "name": "stdout",
     "output_type": "stream",
     "text": [
      "[4 5 6]\n"
     ]
    }
   ],
   "source": [
    "import numpy as np\n",
    "twoDarray = np.array([[1,2,3],[4,5,6]])\n",
    "print(twoDarray[1])"
   ]
  },
  {
   "cell_type": "code",
   "execution_count": 3,
   "id": "266a04c6-5686-4e67-87fe-4213cafbf8d7",
   "metadata": {},
   "outputs": [
    {
     "name": "stdout",
     "output_type": "stream",
     "text": [
      "4\n"
     ]
    }
   ],
   "source": [
    "print(twoDarray[1,0])"
   ]
  },
  {
   "cell_type": "code",
   "execution_count": 4,
   "id": "4b1e6c2d-4044-4a90-9c68-2b1790051fc3",
   "metadata": {},
   "outputs": [
    {
     "name": "stdout",
     "output_type": "stream",
     "text": [
      "[[[ 1  2  3]\n",
      "  [-4 -5  6]\n",
      "  [ 7  8  9]]]\n"
     ]
    }
   ],
   "source": [
    "threeDarray = np.array([[[1,2,3,],[-4,-5,6],[7,8,9]]])\n",
    "print(threeDarray)"
   ]
  },
  {
   "cell_type": "code",
   "execution_count": 6,
   "id": "37734b23-007a-413a-977b-8c64140527f1",
   "metadata": {},
   "outputs": [
    {
     "name": "stdout",
     "output_type": "stream",
     "text": [
      "[-4 -5  6]\n"
     ]
    }
   ],
   "source": [
    "print(threeDarray[0,1])"
   ]
  },
  {
   "cell_type": "code",
   "execution_count": 7,
   "id": "442f3009-399b-4d77-873a-458c1eca2168",
   "metadata": {},
   "outputs": [
    {
     "name": "stdout",
     "output_type": "stream",
     "text": [
      "-4\n"
     ]
    }
   ],
   "source": [
    "print(threeDarray[0,1,0])"
   ]
  },
  {
   "cell_type": "code",
   "execution_count": 8,
   "id": "86584c15-4d5c-43e5-b417-c9f7856f3126",
   "metadata": {},
   "outputs": [
    {
     "name": "stdout",
     "output_type": "stream",
     "text": [
      "-5\n"
     ]
    }
   ],
   "source": [
    "print(threeDarray[0,1,1])"
   ]
  },
  {
   "cell_type": "code",
   "execution_count": 9,
   "id": "130c4fbc-ee48-4c9b-bf5a-f47f60b2217f",
   "metadata": {},
   "outputs": [
    {
     "name": "stdout",
     "output_type": "stream",
     "text": [
      "8\n"
     ]
    }
   ],
   "source": [
    "print(threeDarray[0,2,1])"
   ]
  },
  {
   "cell_type": "code",
   "execution_count": 14,
   "id": "484cc995-17a7-4fac-af1d-c554eb9c6bc6",
   "metadata": {},
   "outputs": [
    {
     "name": "stdout",
     "output_type": "stream",
     "text": [
      "6\n"
     ]
    }
   ],
   "source": [
    "print(threeDarray[0,1,2])"
   ]
  },
  {
   "cell_type": "code",
   "execution_count": null,
   "id": "3a523d59-146c-4be7-a5de-53c2cc7a113e",
   "metadata": {},
   "outputs": [],
   "source": []
  }
 ],
 "metadata": {
  "kernelspec": {
   "display_name": "Python 3 (ipykernel)",
   "language": "python",
   "name": "python3"
  },
  "language_info": {
   "codemirror_mode": {
    "name": "ipython",
    "version": 3
   },
   "file_extension": ".py",
   "mimetype": "text/x-python",
   "name": "python",
   "nbconvert_exporter": "python",
   "pygments_lexer": "ipython3",
   "version": "3.12.1"
  }
 },
 "nbformat": 4,
 "nbformat_minor": 5
}
