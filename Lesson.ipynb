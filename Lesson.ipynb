{
 "cells": [
  {
   "cell_type": "code",
   "execution_count": 2,
   "id": "ef139902-bb1a-4cb0-8c69-86291371b4d6",
   "metadata": {},
   "outputs": [
    {
     "name": "stdout",
     "output_type": "stream",
     "text": [
      "1\n"
     ]
    }
   ],
   "source": [
    "x = 1\n",
    "print(x)"
   ]
  },
  {
   "cell_type": "code",
   "execution_count": 2,
   "id": "8338d2d3-d68c-41cc-a6ee-23c5f0588047",
   "metadata": {
    "editable": true,
    "slideshow": {
     "slide_type": ""
    },
    "tags": []
   },
   "outputs": [
    {
     "name": "stdout",
     "output_type": "stream",
     "text": [
      "0\n",
      "2\n",
      "4\n",
      "6\n",
      "8\n",
      "10\n",
      "12\n",
      "14\n",
      "16\n",
      "18\n",
      "20\n"
     ]
    }
   ],
   "source": [
    " for i in range(0,21,2):\n",
    "     print(i)"
   ]
  },
  {
   "cell_type": "code",
   "execution_count": 5,
   "id": "573571eb-974e-42af-8d27-98bffd21ced8",
   "metadata": {},
   "outputs": [
    {
     "name": "stdout",
     "output_type": "stream",
     "text": [
      "1\n",
      "2\n",
      "3\n",
      "4\n",
      "5\n",
      "6\n",
      "7\n",
      "8\n",
      "9\n",
      "10\n"
     ]
    }
   ],
   "source": [
    "i = 1\n",
    "while i <= 10:\n",
    "    print(i)\n",
    "    i = i +1 "
   ]
  },
  {
   "cell_type": "code",
   "execution_count": 7,
   "id": "50fab2d0-1ce3-4af6-be73-20744984f0dd",
   "metadata": {},
   "outputs": [
    {
     "name": "stdin",
     "output_type": "stream",
     "text": [
      "Enter Username:  Hubert\n"
     ]
    },
    {
     "name": "stdout",
     "output_type": "stream",
     "text": [
      "Welcome Hubert\n"
     ]
    }
   ],
   "source": [
    "while True:\n",
    "    userName = input(\"Enter Username: \")\n",
    "    if userName == \"Hubert\":\n",
    "        print(\"Welcome Hubert\")\n",
    "        break\n",
    "    else:\n",
    "        print(\"Wrong Username\")\n",
    "        \n",
    "    "
   ]
  },
  {
   "cell_type": "code",
   "execution_count": 8,
   "id": "0410b3d5-313b-409d-bc5c-90407839e9e1",
   "metadata": {},
   "outputs": [
    {
     "name": "stdin",
     "output_type": "stream",
     "text": [
      "Enter Username:  hubert\n"
     ]
    },
    {
     "name": "stdout",
     "output_type": "stream",
     "text": [
      "Wrong Username\n"
     ]
    }
   ],
   "source": [
    " \n",
    "    userName = input(\"Enter Username: \")\n",
    "    if userName == \"Hubert\":\n",
    "        print(\"Welcome Hubert\")\n",
    "         \n",
    "    else:\n",
    "        print(\"Wrong Username\")"
   ]
  },
  {
   "cell_type": "code",
   "execution_count": 13,
   "id": "b77fd2ba-d214-459d-acf7-da96b00769dd",
   "metadata": {},
   "outputs": [
    {
     "name": "stdout",
     "output_type": "stream",
     "text": [
      "Hubert\n",
      "Male\n",
      "34\n",
      "US\n"
     ]
    }
   ],
   "source": [
    "data = {\"Name\":\"Hubert\", \"Sex\":\"Male\", \"Age\":34, \"Country\":\"US\"}\n",
    "for key in data:\n",
    "    print(data[key])"
   ]
  },
  {
   "cell_type": "code",
   "execution_count": 15,
   "id": "259e0ca9-b946-405b-947d-58092a2c90d1",
   "metadata": {},
   "outputs": [
    {
     "name": "stdout",
     "output_type": "stream",
     "text": [
      "13\n"
     ]
    }
   ],
   "source": [
    "def AddNumbers(x,y):\n",
    "    sum = x + y\n",
    "    return sum\n",
    "\n",
    "result = AddNumbers(5,8)\n",
    "print(result)"
   ]
  },
  {
   "cell_type": "code",
   "execution_count": 20,
   "id": "d7c6b1fe-4326-4df4-9b4b-a73f6c2f5fb5",
   "metadata": {},
   "outputs": [
    {
     "name": "stdout",
     "output_type": "stream",
     "text": [
      "3\n",
      "4\n"
     ]
    }
   ],
   "source": [
    "def incrementByOne(x,y):\n",
    "    x = x + 1\n",
    "    y = y + 1\n",
    "    return x,y\n",
    "\n",
    "num1,num2 = incrementByOne(2,3)\n",
    "print(num1)\n",
    "print(num2)\n",
    "\n",
    "     \n",
    "\n"
   ]
  },
  {
   "cell_type": "code",
   "execution_count": null,
   "id": "8e795e4a-17e7-4884-8e31-3fdd471e3564",
   "metadata": {},
   "outputs": [],
   "source": [
    "!pip install pandas numpy matplotlib seaborn\n",
    "\n"
   ]
  },
  {
   "cell_type": "code",
   "execution_count": null,
   "id": "17d36e10-afd9-401b-aa67-bacc85f38e51",
   "metadata": {},
   "outputs": [],
   "source": []
  }
 ],
 "metadata": {
  "kernelspec": {
   "display_name": "Python 3 (ipykernel)",
   "language": "python",
   "name": "python3"
  },
  "language_info": {
   "codemirror_mode": {
    "name": "ipython",
    "version": 3
   },
   "file_extension": ".py",
   "mimetype": "text/x-python",
   "name": "python",
   "nbconvert_exporter": "python",
   "pygments_lexer": "ipython3",
   "version": "3.12.1"
  }
 },
 "nbformat": 4,
 "nbformat_minor": 5
}
