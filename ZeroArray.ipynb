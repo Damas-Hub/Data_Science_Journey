{
 "cells": [
  {
   "cell_type": "code",
   "execution_count": 1,
   "id": "e6624acf-4b1d-495a-9541-39d3d8ec538b",
   "metadata": {},
   "outputs": [
    {
     "name": "stdout",
     "output_type": "stream",
     "text": [
      "[0. 0. 0. 0. 0. 0. 0. 0. 0. 0.]\n"
     ]
    }
   ],
   "source": [
    "import numpy as np\n",
    "ZeroArray = np.zeros(10)\n",
    "print(ZeroArray)"
   ]
  },
  {
   "cell_type": "code",
   "execution_count": 2,
   "id": "cdeed976-9c61-4034-b790-2d45ef82c59b",
   "metadata": {},
   "outputs": [
    {
     "name": "stdout",
     "output_type": "stream",
     "text": [
      "[0 0 0 0 0 0 0 0 0 0]\n"
     ]
    }
   ],
   "source": [
    "ZeroArray = ZeroArray.astype(int)\n",
    "print(ZeroArray)"
   ]
  },
  {
   "cell_type": "code",
   "execution_count": null,
   "id": "bf517eff-1c91-455f-af95-c366fe0e84dc",
   "metadata": {},
   "outputs": [],
   "source": []
  }
 ],
 "metadata": {
  "kernelspec": {
   "display_name": "Python 3 (ipykernel)",
   "language": "python",
   "name": "python3"
  },
  "language_info": {
   "codemirror_mode": {
    "name": "ipython",
    "version": 3
   },
   "file_extension": ".py",
   "mimetype": "text/x-python",
   "name": "python",
   "nbconvert_exporter": "python",
   "pygments_lexer": "ipython3",
   "version": "3.12.1"
  }
 },
 "nbformat": 4,
 "nbformat_minor": 5
}
