{
 "cells": [
  {
   "cell_type": "code",
   "execution_count": 1,
   "id": "800e6f86-a390-4c0a-b642-de3212fff38c",
   "metadata": {},
   "outputs": [
    {
     "name": "stdout",
     "output_type": "stream",
     "text": [
      "(2, 3)\n"
     ]
    }
   ],
   "source": [
    "import numpy as np\n",
    "ArrayShape = np.array([[1,2,3],[4,5,6]])\n",
    "print(ArrayShape.shape)"
   ]
  },
  {
   "cell_type": "code",
   "execution_count": 2,
   "id": "1ceff398-d1d1-46e1-92fd-e47cfe3b68d4",
   "metadata": {},
   "outputs": [
    {
     "name": "stdout",
     "output_type": "stream",
     "text": [
      "(1, 4, 3)\n"
     ]
    }
   ],
   "source": [
    "ArrayShape = np.array([[[1,2,3,],[-4,-5,6],[7,8,9],[-7,-8,-9]]])\n",
    "print(ArrayShape.shape)\n"
   ]
  },
  {
   "cell_type": "code",
   "execution_count": null,
   "id": "bdd98f74-1327-46ef-b86c-e1d8831adaed",
   "metadata": {},
   "outputs": [],
   "source": []
  }
 ],
 "metadata": {
  "kernelspec": {
   "display_name": "Python 3 (ipykernel)",
   "language": "python",
   "name": "python3"
  },
  "language_info": {
   "codemirror_mode": {
    "name": "ipython",
    "version": 3
   },
   "file_extension": ".py",
   "mimetype": "text/x-python",
   "name": "python",
   "nbconvert_exporter": "python",
   "pygments_lexer": "ipython3",
   "version": "3.12.1"
  }
 },
 "nbformat": 4,
 "nbformat_minor": 5
}
